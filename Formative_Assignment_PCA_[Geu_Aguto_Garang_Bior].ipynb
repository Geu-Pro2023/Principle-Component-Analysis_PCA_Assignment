{
  "nbformat": 4,
  "nbformat_minor": 0,
  "metadata": {
    "colab": {
      "provenance": [],
      "include_colab_link": true
    },
    "kernelspec": {
      "name": "python3",
      "display_name": "Python 3"
    },
    "language_info": {
      "name": "python"
    }
  },
  "cells": [
    {
      "cell_type": "markdown",
      "metadata": {
        "id": "view-in-github",
        "colab_type": "text"
      },
      "source": [
        "<a href=\"https://colab.research.google.com/github/Geu-Pro2023/Principle-Component-Analysis_PCA_Assignment/blob/master/Formative_Assignment_PCA_%5BGeu_Aguto_Garang_Bior%5D.ipynb\" target=\"_parent\"><img src=\"https://colab.research.google.com/assets/colab-badge.svg\" alt=\"Open In Colab\"/></a>"
      ]
    },
    {
      "cell_type": "markdown",
      "source": [
        "\n",
        "\n",
        "<center>\n",
        "    <img src=\"https://miro.medium.com/v2/resize:fit:300/1*mgncZaKaVx9U6OCQu_m8Bg.jpeg\">\n",
        "</center>\n",
        "\n",
        "\n",
        "\n",
        "The goal of PCA is to extract information while reducing the number of features\n",
        "from a dataset by identifying which existing features relate to another. The crux of the algorithm is trying to determine the relationship between existing features, called principal components, and then quantifying how relevant these principal components are. The principal components are used to transform the high dimensional data to a lower dimensional data while preserving as much information. For a principal component to be relevant, it needs to capture information about the features. We can determine the relationships between features using covariance."
      ],
      "metadata": {
        "id": "xyATLU4z1cYj"
      }
    },
    {
      "cell_type": "code",
      "source": [
        "#import necessary package\n",
        "#TO DO\n",
        "import numpy as np\n",
        "import pandas as pd\n",
        "import matplotlib.pyplot as plt\n",
        "from sklearn.preprocessing import StandardScaler"
      ],
      "metadata": {
        "id": "UTntK0eUNimH"
      },
      "execution_count": 21,
      "outputs": []
    },
    {
      "cell_type": "code",
      "source": [
        "data = np.array([\n",
        "    [   1,   2,  -1,   4,  10],\n",
        "    [   3,  -3,  -3,  12, -15],\n",
        "    [   2,   1,  -2,   4,   5],\n",
        "    [   5,   1,  -5,  10,   5],\n",
        "    [   2,   3,  -3,   5,  12],\n",
        "    [   4,   0,  -3,  16,   2],\n",
        "])"
      ],
      "metadata": {
        "id": "qWaiAdz8PyKp"
      },
      "execution_count": 22,
      "outputs": []
    },
    {
      "cell_type": "markdown",
      "source": [
        "### Step 1: Standardize the Data along the Features\n",
        "\n",
        "![image.png](https://encrypted-tbn0.gstatic.com/images?q=tbn:ANd9GcQLxe5VYCBsaZddkkTZlCY24Yov4JJD4-ArTA&usqp=CAU)\n",
        "\n",
        "\n",
        "\n",
        "\n",
        "Explain why we need to handle the data on the same scale.\n",
        "\n",
        "**Handling data on the same scale in PCA is crucial because PCA identifies directions of maximum variance. If features have different scales, the larger-scaled features will dominate the variance, leading to biased results. Standardizing ensures all features contribute equally, preventing one feature from disproportionately influencing the principal components, and allows PCA to capture the true structure of the data.**"
      ],
      "metadata": {
        "id": "U2U2_Q5ebos3"
      }
    },
    {
      "cell_type": "code",
      "source": [
        "scaler = StandardScaler()\n",
        "standardized_data = scaler.fit_transform(data)\n",
        "\n",
        "print(\"Standardized Data:\\n\", standardized_data)"
      ],
      "metadata": {
        "id": "JF3eGB7FRC0A",
        "outputId": "7c0ae3f6-f72d-430c-a6d1-a221bd152844",
        "colab": {
          "base_uri": "https://localhost:8080/"
        }
      },
      "execution_count": 23,
      "outputs": [
        {
          "output_type": "stream",
          "name": "stdout",
          "text": [
            "Standardized Data:\n",
            " [[-1.36438208  0.70710678  1.5109662  -0.99186978  0.77802924]\n",
            " [ 0.12403473 -1.94454365 -0.13736056  0.77145428 -2.06841919]\n",
            " [-0.62017367  0.1767767   0.68680282 -0.99186978  0.20873955]\n",
            " [ 1.61245155  0.1767767  -1.78568733  0.33062326  0.20873955]\n",
            " [-0.62017367  1.23743687 -0.13736056 -0.77145428  1.00574511]\n",
            " [ 0.86824314 -0.35355339 -0.13736056  1.65311631 -0.13283426]]\n"
          ]
        }
      ]
    },
    {
      "cell_type": "markdown",
      "source": [
        "![cov matrix.webp](https://dmitry.ai/uploads/default/original/1X/9bd2851674ebb55e404cc3ff5e2ffe65b42ff460.png)\n",
        "\n",
        "We use the pair - wise covariance of the different features to determine how they relate to each other. With these covariances, our goal is to group / cluster based on similar patterns. Intuitively, we can relate features if they have similar covariances with other features."
      ],
      "metadata": {
        "id": "7rzoiQ7fMk_d"
      }
    },
    {
      "cell_type": "markdown",
      "source": [
        "### Step 2: Calculate the Covariance Matrix\n",
        "\n"
      ],
      "metadata": {
        "id": "uuhux3UEcBgw"
      }
    },
    {
      "cell_type": "code",
      "execution_count": 24,
      "metadata": {
        "colab": {
          "base_uri": "https://localhost:8080/"
        },
        "id": "qn8oujZlK9YR",
        "outputId": "192ecd34-55bf-42a0-ba75-c9766c436518"
      },
      "outputs": [
        {
          "output_type": "stream",
          "name": "stdout",
          "text": [
            "Covariance Matrix:\n",
            " [[ 1.2        -0.42098785 -1.0835838   0.90219291 -0.37000528]\n",
            " [-0.42098785  1.2         0.20397003 -0.77149364  1.18751836]\n",
            " [-1.0835838   0.20397003  1.2        -0.59947269  0.22208218]\n",
            " [ 0.90219291 -0.77149364 -0.59947269  1.2        -0.70017993]\n",
            " [-0.37000528  1.18751836  0.22208218 -0.70017993  1.2       ]]\n"
          ]
        }
      ],
      "source": [
        "cov_matrix = np.cov(standardized_data.T)\n",
        "print(\"Covariance Matrix:\\n\", cov_matrix)"
      ]
    },
    {
      "cell_type": "markdown",
      "source": [
        "### Step 3: Eigendecomposition on the Covariance Matrix\n"
      ],
      "metadata": {
        "id": "uXNcG4AFcT08"
      }
    },
    {
      "cell_type": "code",
      "source": [
        "eigenvalues, eigenvectors = np.linalg.eig(cov_matrix)\n",
        "print(\"Eigenvalues:\\n\", eigenvalues)\n",
        "print(\"Eigenvectors:\\n\", eigenvectors)"
      ],
      "metadata": {
        "id": "dmGlQ47tRO5w",
        "outputId": "052d1961-08e4-411c-8467-34f10a48b2a8",
        "colab": {
          "base_uri": "https://localhost:8080/"
        }
      },
      "execution_count": 25,
      "outputs": [
        {
          "output_type": "stream",
          "name": "stdout",
          "text": [
            "Eigenvalues:\n",
            " [3.80985761e+00 1.73655615e+00 4.94531029e-02 4.74189469e-05\n",
            " 4.04085720e-01]\n",
            "Eigenvectors:\n",
            " [[-0.4640131   0.45182808 -0.70733581  0.28128049 -0.03317471]\n",
            " [ 0.45019005  0.48800851  0.29051532  0.6706731  -0.15803498]\n",
            " [ 0.37929082 -0.55665017 -0.48462321  0.24186072 -0.5029143 ]\n",
            " [-0.4976889   0.03162214  0.36999674 -0.03373724 -0.78311558]\n",
            " [ 0.43642295  0.49682965 -0.20861365 -0.64143906 -0.32822489]]\n"
          ]
        }
      ]
    },
    {
      "cell_type": "markdown",
      "source": [
        "### Step 4: Sort the Principal Components\n",
        "# np.argsort can only provide lowest to highest; use [::-1] to reverse the list"
      ],
      "metadata": {
        "id": "4pWho88fcbJA"
      }
    },
    {
      "cell_type": "code",
      "source": [
        "# Sort the eigenvalues and eigenvectors\n",
        "sorted_indices = np.argsort(eigenvalues)[::-1]\n",
        "sorted_eigenvalues = eigenvalues[sorted_indices]\n",
        "sorted_eigenvectors = eigenvectors[:, sorted_indices]\n",
        "\n",
        "print(\"Sorted Eigenvalues:\\n\", sorted_eigenvalues)\n",
        "print(\"Sorted Eigenvectors:\\n\", sorted_eigenvectors)"
      ],
      "metadata": {
        "colab": {
          "base_uri": "https://localhost:8080/"
        },
        "id": "_znKtzdrTmMg",
        "outputId": "d157ea58-e3fd-4727-9d3e-021c6f7ef93d"
      },
      "execution_count": 26,
      "outputs": [
        {
          "output_type": "stream",
          "name": "stdout",
          "text": [
            "Sorted Eigenvalues:\n",
            " [3.80985761e+00 1.73655615e+00 4.04085720e-01 4.94531029e-02\n",
            " 4.74189469e-05]\n",
            "Sorted Eigenvectors:\n",
            " [[-0.4640131   0.45182808 -0.03317471 -0.70733581  0.28128049]\n",
            " [ 0.45019005  0.48800851 -0.15803498  0.29051532  0.6706731 ]\n",
            " [ 0.37929082 -0.55665017 -0.5029143  -0.48462321  0.24186072]\n",
            " [-0.4976889   0.03162214 -0.78311558  0.36999674 -0.03373724]\n",
            " [ 0.43642295  0.49682965 -0.32822489 -0.20861365 -0.64143906]]\n"
          ]
        }
      ]
    },
    {
      "cell_type": "markdown",
      "source": [
        "Question:\n",
        "\n",
        "1. Why do we order eigen values and eigen vectors?\n",
        "\n",
        "**We order eigenvalues and eigenvectors to identify the principal components that explain the most variance in the dataset. Higher eigenvalues indicate greater variance captured by their corresponding eigenvectors, allowing us to focus on the most informative components for analysis and dimensionality reduction.**\n",
        "\n",
        "2. Is it true we would consider the lowest eigen value compared to the highest? Defend your answer\n",
        "\n",
        "**No, we typically do not consider the lowest eigenvalues because they represent principal components that explain minimal variance. Instead, we focus on the highest eigenvalues, as they provide the most significant insights into the data structure and patterns.**"
      ],
      "metadata": {
        "id": "o1nILNGxpTJB"
      }
    },
    {
      "cell_type": "markdown",
      "source": [
        "You want to see what percentage of information each eigen value holds. You would have print out the percentage of each eigen value using the formula\n",
        "\n",
        "\n",
        "\n",
        "> (sorted eigen values / sum of all sorted eigen values) * 100\n",
        "\n"
      ],
      "metadata": {
        "id": "BWqFGNeNvgEB"
      }
    },
    {
      "cell_type": "code",
      "source": [
        "# use sorted_eigenvalues to ensure the explained variances correspond to the eigenvectors\n",
        "\n",
        "# Calculate the explained variance for each eigenvalue\n",
        "explained_variance = (sorted_eigenvalues / sum(sorted_eigenvalues)) * 100\n",
        "# Format the explained variance as percentages with two decimal places\n",
        "explained_variance = [\"{:.2f}%\".format(value) for value in explained_variance]\n",
        "\n",
        "print( explained_variance)"
      ],
      "metadata": {
        "colab": {
          "base_uri": "https://localhost:8080/"
        },
        "id": "bRMHrffrVOXR",
        "outputId": "1b12140e-b7f1-4a45-f83a-add30eff9f16"
      },
      "execution_count": 27,
      "outputs": [
        {
          "output_type": "stream",
          "name": "stdout",
          "text": [
            "['63.50%', '28.94%', '6.73%', '0.82%', '0.00%']\n"
          ]
        }
      ]
    },
    {
      "cell_type": "markdown",
      "source": [
        "#Initialize the number of Principle components then perfrom matrix multiplication with the variable K example k = 3 for 3 priciple components\n",
        "\n",
        "\n",
        "\n",
        "\n",
        "> The reulting matrix (with reduced data) = standardized data * vector with columns k\n",
        "\n",
        "See expected output for k = 2\n",
        "\n"
      ],
      "metadata": {
        "id": "qB7H4InbfKx5"
      }
    },
    {
      "cell_type": "code",
      "source": [
        "k = 2\n",
        "reduced_data = np.matmul(standardized_data, sorted_eigenvectors[:, :k])"
      ],
      "metadata": {
        "id": "C-Rnyq6QVTiz"
      },
      "execution_count": 28,
      "outputs": []
    },
    {
      "cell_type": "code",
      "source": [
        "print(reduced_data)"
      ],
      "metadata": {
        "colab": {
          "base_uri": "https://localhost:8080/"
        },
        "id": "JxxBcgQMXe1h",
        "outputId": "ec0d236d-a87e-4c41-97a2-ea0c1968811f"
      },
      "execution_count": 29,
      "outputs": [
        {
          "output_type": "stream",
          "name": "stdout",
          "text": [
            "[[ 2.3577116  -0.75728867]\n",
            " [-2.27171739 -1.81970663]\n",
            " [ 1.21259114 -0.50390931]\n",
            " [-1.41935914  1.9229856 ]\n",
            " [ 1.61562536  0.87541857]\n",
            " [-1.49485157  0.28250044]]\n"
          ]
        }
      ]
    },
    {
      "cell_type": "code",
      "source": [
        "print(reduced_data.shape)"
      ],
      "metadata": {
        "colab": {
          "base_uri": "https://localhost:8080/"
        },
        "id": "PNEqS6cuaMSY",
        "outputId": "8dbc3235-e8dd-4cd5-a141-2c1b93cef41b"
      },
      "execution_count": 30,
      "outputs": [
        {
          "output_type": "stream",
          "name": "stdout",
          "text": [
            "(6, 2)\n"
          ]
        }
      ]
    },
    {
      "cell_type": "markdown",
      "source": [
        "# **Principal Component Analysis on Fuel-Econ Data**"
      ],
      "metadata": {
        "id": "_zURxzPMZSLO"
      }
    },
    {
      "cell_type": "markdown",
      "source": [
        "In this notebook, I first explored the initial given matrix to understand the principles of Principal Component Analysis **(PCA)**. After successfully implementing the PCA steps on the provided data, I applied the same methodology to the fuel-econ.csv dataset. This approach allowed me to ensure consistency in the analysis and to reinforce my understanding of the PCA process through practical application on both datasets.\n",
        "\n",
        "Below is the analysis and results for the **fuel-econ.csv** dataset."
      ],
      "metadata": {
        "id": "yQmVUsAnvOYa"
      }
    },
    {
      "cell_type": "code",
      "source": [
        "from google.colab import drive\n",
        "drive.mount('/content/drive')"
      ],
      "metadata": {
        "id": "6FGOH_b_ZtHU",
        "outputId": "df4cb9f8-52fc-413a-84cc-9e3db8984277",
        "colab": {
          "base_uri": "https://localhost:8080/"
        }
      },
      "execution_count": 31,
      "outputs": [
        {
          "output_type": "stream",
          "name": "stdout",
          "text": [
            "Drive already mounted at /content/drive; to attempt to forcibly remount, call drive.mount(\"/content/drive\", force_remount=True).\n"
          ]
        }
      ]
    },
    {
      "cell_type": "code",
      "source": [
        "# Load the fuel-econ data\n",
        "data = pd.read_csv('/content/drive/MyDrive/Machine Learning/fuel_econ.csv')\n",
        "\n",
        "# Display a few rows of the dataset\n",
        "data.head((10))"
      ],
      "metadata": {
        "id": "onJZ55cwbfpp",
        "outputId": "7513c8a2-5875-48d2-c8d6-8d7b7ddba43a",
        "colab": {
          "base_uri": "https://localhost:8080/",
          "height": 730
        }
      },
      "execution_count": 32,
      "outputs": [
        {
          "output_type": "execute_result",
          "data": {
            "text/plain": [
              "      id        make           model  year           VClass  \\\n",
              "0  32204      Nissan            GT-R  2013  Subcompact Cars   \n",
              "1  32205  Volkswagen              CC  2013     Compact Cars   \n",
              "2  32206  Volkswagen              CC  2013     Compact Cars   \n",
              "3  32207  Volkswagen      CC 4motion  2013     Compact Cars   \n",
              "4  32208   Chevrolet  Malibu eAssist  2013     Midsize Cars   \n",
              "5  32209       Lexus          GS 350  2013     Midsize Cars   \n",
              "6  32210       Lexus      GS 350 AWD  2013     Midsize Cars   \n",
              "7  32214     Hyundai   Genesis Coupe  2013  Subcompact Cars   \n",
              "8  32215     Hyundai   Genesis Coupe  2013  Subcompact Cars   \n",
              "9  32216     Hyundai   Genesis Coupe  2013  Subcompact Cars   \n",
              "\n",
              "               drive              trans          fuelType  cylinders  displ  \\\n",
              "0    All-Wheel Drive    Automatic (AM6)  Premium Gasoline          6    3.8   \n",
              "1  Front-Wheel Drive  Automatic (AM-S6)  Premium Gasoline          4    2.0   \n",
              "2  Front-Wheel Drive     Automatic (S6)  Premium Gasoline          6    3.6   \n",
              "3    All-Wheel Drive     Automatic (S6)  Premium Gasoline          6    3.6   \n",
              "4  Front-Wheel Drive     Automatic (S6)  Regular Gasoline          4    2.4   \n",
              "5   Rear-Wheel Drive     Automatic (S6)  Premium Gasoline          6    3.5   \n",
              "6    All-Wheel Drive     Automatic (S6)  Premium Gasoline          6    3.5   \n",
              "7   Rear-Wheel Drive    Automatic 8-spd  Premium Gasoline          4    2.0   \n",
              "8   Rear-Wheel Drive       Manual 6-spd  Premium Gasoline          4    2.0   \n",
              "9   Rear-Wheel Drive    Automatic 8-spd  Premium Gasoline          6    3.8   \n",
              "\n",
              "   pv2  pv4     city    UCity  highway  UHighway     comb  co2  feScore  \\\n",
              "0   79    0  16.4596  20.2988  22.5568   30.1798  18.7389  471        4   \n",
              "1   94    0  21.8706  26.9770  31.0367   42.4936  25.2227  349        6   \n",
              "2   94    0  17.4935  21.2000  26.5716   35.1000  20.6716  429        5   \n",
              "3   94    0  16.9415  20.5000  25.2190   33.5000  19.8774  446        5   \n",
              "4    0   95  24.7726  31.9796  35.5340   51.8816  28.6813  310        8   \n",
              "5    0   99  19.4325  24.1499  28.2234   38.5000  22.6002  393        6   \n",
              "6    0   99  18.5752  23.5261  26.3573   36.2109  21.4213  412        5   \n",
              "7   89    0  17.4460  21.7946  26.6295   37.6731  20.6507  432        5   \n",
              "8   89    0  20.6741  26.2000  29.2741   41.8000  23.8235  375        6   \n",
              "9   89    0  16.4675  20.4839  24.5605   34.4972  19.3344  461        4   \n",
              "\n",
              "   ghgScore  \n",
              "0         4  \n",
              "1         6  \n",
              "2         5  \n",
              "3         5  \n",
              "4         8  \n",
              "5         6  \n",
              "6         5  \n",
              "7         5  \n",
              "8         6  \n",
              "9         4  "
            ],
            "text/html": [
              "\n",
              "  <div id=\"df-5b08d5f5-b8fc-4084-9704-435382210fa7\" class=\"colab-df-container\">\n",
              "    <div>\n",
              "<style scoped>\n",
              "    .dataframe tbody tr th:only-of-type {\n",
              "        vertical-align: middle;\n",
              "    }\n",
              "\n",
              "    .dataframe tbody tr th {\n",
              "        vertical-align: top;\n",
              "    }\n",
              "\n",
              "    .dataframe thead th {\n",
              "        text-align: right;\n",
              "    }\n",
              "</style>\n",
              "<table border=\"1\" class=\"dataframe\">\n",
              "  <thead>\n",
              "    <tr style=\"text-align: right;\">\n",
              "      <th></th>\n",
              "      <th>id</th>\n",
              "      <th>make</th>\n",
              "      <th>model</th>\n",
              "      <th>year</th>\n",
              "      <th>VClass</th>\n",
              "      <th>drive</th>\n",
              "      <th>trans</th>\n",
              "      <th>fuelType</th>\n",
              "      <th>cylinders</th>\n",
              "      <th>displ</th>\n",
              "      <th>pv2</th>\n",
              "      <th>pv4</th>\n",
              "      <th>city</th>\n",
              "      <th>UCity</th>\n",
              "      <th>highway</th>\n",
              "      <th>UHighway</th>\n",
              "      <th>comb</th>\n",
              "      <th>co2</th>\n",
              "      <th>feScore</th>\n",
              "      <th>ghgScore</th>\n",
              "    </tr>\n",
              "  </thead>\n",
              "  <tbody>\n",
              "    <tr>\n",
              "      <th>0</th>\n",
              "      <td>32204</td>\n",
              "      <td>Nissan</td>\n",
              "      <td>GT-R</td>\n",
              "      <td>2013</td>\n",
              "      <td>Subcompact Cars</td>\n",
              "      <td>All-Wheel Drive</td>\n",
              "      <td>Automatic (AM6)</td>\n",
              "      <td>Premium Gasoline</td>\n",
              "      <td>6</td>\n",
              "      <td>3.8</td>\n",
              "      <td>79</td>\n",
              "      <td>0</td>\n",
              "      <td>16.4596</td>\n",
              "      <td>20.2988</td>\n",
              "      <td>22.5568</td>\n",
              "      <td>30.1798</td>\n",
              "      <td>18.7389</td>\n",
              "      <td>471</td>\n",
              "      <td>4</td>\n",
              "      <td>4</td>\n",
              "    </tr>\n",
              "    <tr>\n",
              "      <th>1</th>\n",
              "      <td>32205</td>\n",
              "      <td>Volkswagen</td>\n",
              "      <td>CC</td>\n",
              "      <td>2013</td>\n",
              "      <td>Compact Cars</td>\n",
              "      <td>Front-Wheel Drive</td>\n",
              "      <td>Automatic (AM-S6)</td>\n",
              "      <td>Premium Gasoline</td>\n",
              "      <td>4</td>\n",
              "      <td>2.0</td>\n",
              "      <td>94</td>\n",
              "      <td>0</td>\n",
              "      <td>21.8706</td>\n",
              "      <td>26.9770</td>\n",
              "      <td>31.0367</td>\n",
              "      <td>42.4936</td>\n",
              "      <td>25.2227</td>\n",
              "      <td>349</td>\n",
              "      <td>6</td>\n",
              "      <td>6</td>\n",
              "    </tr>\n",
              "    <tr>\n",
              "      <th>2</th>\n",
              "      <td>32206</td>\n",
              "      <td>Volkswagen</td>\n",
              "      <td>CC</td>\n",
              "      <td>2013</td>\n",
              "      <td>Compact Cars</td>\n",
              "      <td>Front-Wheel Drive</td>\n",
              "      <td>Automatic (S6)</td>\n",
              "      <td>Premium Gasoline</td>\n",
              "      <td>6</td>\n",
              "      <td>3.6</td>\n",
              "      <td>94</td>\n",
              "      <td>0</td>\n",
              "      <td>17.4935</td>\n",
              "      <td>21.2000</td>\n",
              "      <td>26.5716</td>\n",
              "      <td>35.1000</td>\n",
              "      <td>20.6716</td>\n",
              "      <td>429</td>\n",
              "      <td>5</td>\n",
              "      <td>5</td>\n",
              "    </tr>\n",
              "    <tr>\n",
              "      <th>3</th>\n",
              "      <td>32207</td>\n",
              "      <td>Volkswagen</td>\n",
              "      <td>CC 4motion</td>\n",
              "      <td>2013</td>\n",
              "      <td>Compact Cars</td>\n",
              "      <td>All-Wheel Drive</td>\n",
              "      <td>Automatic (S6)</td>\n",
              "      <td>Premium Gasoline</td>\n",
              "      <td>6</td>\n",
              "      <td>3.6</td>\n",
              "      <td>94</td>\n",
              "      <td>0</td>\n",
              "      <td>16.9415</td>\n",
              "      <td>20.5000</td>\n",
              "      <td>25.2190</td>\n",
              "      <td>33.5000</td>\n",
              "      <td>19.8774</td>\n",
              "      <td>446</td>\n",
              "      <td>5</td>\n",
              "      <td>5</td>\n",
              "    </tr>\n",
              "    <tr>\n",
              "      <th>4</th>\n",
              "      <td>32208</td>\n",
              "      <td>Chevrolet</td>\n",
              "      <td>Malibu eAssist</td>\n",
              "      <td>2013</td>\n",
              "      <td>Midsize Cars</td>\n",
              "      <td>Front-Wheel Drive</td>\n",
              "      <td>Automatic (S6)</td>\n",
              "      <td>Regular Gasoline</td>\n",
              "      <td>4</td>\n",
              "      <td>2.4</td>\n",
              "      <td>0</td>\n",
              "      <td>95</td>\n",
              "      <td>24.7726</td>\n",
              "      <td>31.9796</td>\n",
              "      <td>35.5340</td>\n",
              "      <td>51.8816</td>\n",
              "      <td>28.6813</td>\n",
              "      <td>310</td>\n",
              "      <td>8</td>\n",
              "      <td>8</td>\n",
              "    </tr>\n",
              "    <tr>\n",
              "      <th>5</th>\n",
              "      <td>32209</td>\n",
              "      <td>Lexus</td>\n",
              "      <td>GS 350</td>\n",
              "      <td>2013</td>\n",
              "      <td>Midsize Cars</td>\n",
              "      <td>Rear-Wheel Drive</td>\n",
              "      <td>Automatic (S6)</td>\n",
              "      <td>Premium Gasoline</td>\n",
              "      <td>6</td>\n",
              "      <td>3.5</td>\n",
              "      <td>0</td>\n",
              "      <td>99</td>\n",
              "      <td>19.4325</td>\n",
              "      <td>24.1499</td>\n",
              "      <td>28.2234</td>\n",
              "      <td>38.5000</td>\n",
              "      <td>22.6002</td>\n",
              "      <td>393</td>\n",
              "      <td>6</td>\n",
              "      <td>6</td>\n",
              "    </tr>\n",
              "    <tr>\n",
              "      <th>6</th>\n",
              "      <td>32210</td>\n",
              "      <td>Lexus</td>\n",
              "      <td>GS 350 AWD</td>\n",
              "      <td>2013</td>\n",
              "      <td>Midsize Cars</td>\n",
              "      <td>All-Wheel Drive</td>\n",
              "      <td>Automatic (S6)</td>\n",
              "      <td>Premium Gasoline</td>\n",
              "      <td>6</td>\n",
              "      <td>3.5</td>\n",
              "      <td>0</td>\n",
              "      <td>99</td>\n",
              "      <td>18.5752</td>\n",
              "      <td>23.5261</td>\n",
              "      <td>26.3573</td>\n",
              "      <td>36.2109</td>\n",
              "      <td>21.4213</td>\n",
              "      <td>412</td>\n",
              "      <td>5</td>\n",
              "      <td>5</td>\n",
              "    </tr>\n",
              "    <tr>\n",
              "      <th>7</th>\n",
              "      <td>32214</td>\n",
              "      <td>Hyundai</td>\n",
              "      <td>Genesis Coupe</td>\n",
              "      <td>2013</td>\n",
              "      <td>Subcompact Cars</td>\n",
              "      <td>Rear-Wheel Drive</td>\n",
              "      <td>Automatic 8-spd</td>\n",
              "      <td>Premium Gasoline</td>\n",
              "      <td>4</td>\n",
              "      <td>2.0</td>\n",
              "      <td>89</td>\n",
              "      <td>0</td>\n",
              "      <td>17.4460</td>\n",
              "      <td>21.7946</td>\n",
              "      <td>26.6295</td>\n",
              "      <td>37.6731</td>\n",
              "      <td>20.6507</td>\n",
              "      <td>432</td>\n",
              "      <td>5</td>\n",
              "      <td>5</td>\n",
              "    </tr>\n",
              "    <tr>\n",
              "      <th>8</th>\n",
              "      <td>32215</td>\n",
              "      <td>Hyundai</td>\n",
              "      <td>Genesis Coupe</td>\n",
              "      <td>2013</td>\n",
              "      <td>Subcompact Cars</td>\n",
              "      <td>Rear-Wheel Drive</td>\n",
              "      <td>Manual 6-spd</td>\n",
              "      <td>Premium Gasoline</td>\n",
              "      <td>4</td>\n",
              "      <td>2.0</td>\n",
              "      <td>89</td>\n",
              "      <td>0</td>\n",
              "      <td>20.6741</td>\n",
              "      <td>26.2000</td>\n",
              "      <td>29.2741</td>\n",
              "      <td>41.8000</td>\n",
              "      <td>23.8235</td>\n",
              "      <td>375</td>\n",
              "      <td>6</td>\n",
              "      <td>6</td>\n",
              "    </tr>\n",
              "    <tr>\n",
              "      <th>9</th>\n",
              "      <td>32216</td>\n",
              "      <td>Hyundai</td>\n",
              "      <td>Genesis Coupe</td>\n",
              "      <td>2013</td>\n",
              "      <td>Subcompact Cars</td>\n",
              "      <td>Rear-Wheel Drive</td>\n",
              "      <td>Automatic 8-spd</td>\n",
              "      <td>Premium Gasoline</td>\n",
              "      <td>6</td>\n",
              "      <td>3.8</td>\n",
              "      <td>89</td>\n",
              "      <td>0</td>\n",
              "      <td>16.4675</td>\n",
              "      <td>20.4839</td>\n",
              "      <td>24.5605</td>\n",
              "      <td>34.4972</td>\n",
              "      <td>19.3344</td>\n",
              "      <td>461</td>\n",
              "      <td>4</td>\n",
              "      <td>4</td>\n",
              "    </tr>\n",
              "  </tbody>\n",
              "</table>\n",
              "</div>\n",
              "    <div class=\"colab-df-buttons\">\n",
              "\n",
              "  <div class=\"colab-df-container\">\n",
              "    <button class=\"colab-df-convert\" onclick=\"convertToInteractive('df-5b08d5f5-b8fc-4084-9704-435382210fa7')\"\n",
              "            title=\"Convert this dataframe to an interactive table.\"\n",
              "            style=\"display:none;\">\n",
              "\n",
              "  <svg xmlns=\"http://www.w3.org/2000/svg\" height=\"24px\" viewBox=\"0 -960 960 960\">\n",
              "    <path d=\"M120-120v-720h720v720H120Zm60-500h600v-160H180v160Zm220 220h160v-160H400v160Zm0 220h160v-160H400v160ZM180-400h160v-160H180v160Zm440 0h160v-160H620v160ZM180-180h160v-160H180v160Zm440 0h160v-160H620v160Z\"/>\n",
              "  </svg>\n",
              "    </button>\n",
              "\n",
              "  <style>\n",
              "    .colab-df-container {\n",
              "      display:flex;\n",
              "      gap: 12px;\n",
              "    }\n",
              "\n",
              "    .colab-df-convert {\n",
              "      background-color: #E8F0FE;\n",
              "      border: none;\n",
              "      border-radius: 50%;\n",
              "      cursor: pointer;\n",
              "      display: none;\n",
              "      fill: #1967D2;\n",
              "      height: 32px;\n",
              "      padding: 0 0 0 0;\n",
              "      width: 32px;\n",
              "    }\n",
              "\n",
              "    .colab-df-convert:hover {\n",
              "      background-color: #E2EBFA;\n",
              "      box-shadow: 0px 1px 2px rgba(60, 64, 67, 0.3), 0px 1px 3px 1px rgba(60, 64, 67, 0.15);\n",
              "      fill: #174EA6;\n",
              "    }\n",
              "\n",
              "    .colab-df-buttons div {\n",
              "      margin-bottom: 4px;\n",
              "    }\n",
              "\n",
              "    [theme=dark] .colab-df-convert {\n",
              "      background-color: #3B4455;\n",
              "      fill: #D2E3FC;\n",
              "    }\n",
              "\n",
              "    [theme=dark] .colab-df-convert:hover {\n",
              "      background-color: #434B5C;\n",
              "      box-shadow: 0px 1px 3px 1px rgba(0, 0, 0, 0.15);\n",
              "      filter: drop-shadow(0px 1px 2px rgba(0, 0, 0, 0.3));\n",
              "      fill: #FFFFFF;\n",
              "    }\n",
              "  </style>\n",
              "\n",
              "    <script>\n",
              "      const buttonEl =\n",
              "        document.querySelector('#df-5b08d5f5-b8fc-4084-9704-435382210fa7 button.colab-df-convert');\n",
              "      buttonEl.style.display =\n",
              "        google.colab.kernel.accessAllowed ? 'block' : 'none';\n",
              "\n",
              "      async function convertToInteractive(key) {\n",
              "        const element = document.querySelector('#df-5b08d5f5-b8fc-4084-9704-435382210fa7');\n",
              "        const dataTable =\n",
              "          await google.colab.kernel.invokeFunction('convertToInteractive',\n",
              "                                                    [key], {});\n",
              "        if (!dataTable) return;\n",
              "\n",
              "        const docLinkHtml = 'Like what you see? Visit the ' +\n",
              "          '<a target=\"_blank\" href=https://colab.research.google.com/notebooks/data_table.ipynb>data table notebook</a>'\n",
              "          + ' to learn more about interactive tables.';\n",
              "        element.innerHTML = '';\n",
              "        dataTable['output_type'] = 'display_data';\n",
              "        await google.colab.output.renderOutput(dataTable, element);\n",
              "        const docLink = document.createElement('div');\n",
              "        docLink.innerHTML = docLinkHtml;\n",
              "        element.appendChild(docLink);\n",
              "      }\n",
              "    </script>\n",
              "  </div>\n",
              "\n",
              "\n",
              "<div id=\"df-664eab93-25cb-4504-a6ee-20d1ae865380\">\n",
              "  <button class=\"colab-df-quickchart\" onclick=\"quickchart('df-664eab93-25cb-4504-a6ee-20d1ae865380')\"\n",
              "            title=\"Suggest charts\"\n",
              "            style=\"display:none;\">\n",
              "\n",
              "<svg xmlns=\"http://www.w3.org/2000/svg\" height=\"24px\"viewBox=\"0 0 24 24\"\n",
              "     width=\"24px\">\n",
              "    <g>\n",
              "        <path d=\"M19 3H5c-1.1 0-2 .9-2 2v14c0 1.1.9 2 2 2h14c1.1 0 2-.9 2-2V5c0-1.1-.9-2-2-2zM9 17H7v-7h2v7zm4 0h-2V7h2v10zm4 0h-2v-4h2v4z\"/>\n",
              "    </g>\n",
              "</svg>\n",
              "  </button>\n",
              "\n",
              "<style>\n",
              "  .colab-df-quickchart {\n",
              "      --bg-color: #E8F0FE;\n",
              "      --fill-color: #1967D2;\n",
              "      --hover-bg-color: #E2EBFA;\n",
              "      --hover-fill-color: #174EA6;\n",
              "      --disabled-fill-color: #AAA;\n",
              "      --disabled-bg-color: #DDD;\n",
              "  }\n",
              "\n",
              "  [theme=dark] .colab-df-quickchart {\n",
              "      --bg-color: #3B4455;\n",
              "      --fill-color: #D2E3FC;\n",
              "      --hover-bg-color: #434B5C;\n",
              "      --hover-fill-color: #FFFFFF;\n",
              "      --disabled-bg-color: #3B4455;\n",
              "      --disabled-fill-color: #666;\n",
              "  }\n",
              "\n",
              "  .colab-df-quickchart {\n",
              "    background-color: var(--bg-color);\n",
              "    border: none;\n",
              "    border-radius: 50%;\n",
              "    cursor: pointer;\n",
              "    display: none;\n",
              "    fill: var(--fill-color);\n",
              "    height: 32px;\n",
              "    padding: 0;\n",
              "    width: 32px;\n",
              "  }\n",
              "\n",
              "  .colab-df-quickchart:hover {\n",
              "    background-color: var(--hover-bg-color);\n",
              "    box-shadow: 0 1px 2px rgba(60, 64, 67, 0.3), 0 1px 3px 1px rgba(60, 64, 67, 0.15);\n",
              "    fill: var(--button-hover-fill-color);\n",
              "  }\n",
              "\n",
              "  .colab-df-quickchart-complete:disabled,\n",
              "  .colab-df-quickchart-complete:disabled:hover {\n",
              "    background-color: var(--disabled-bg-color);\n",
              "    fill: var(--disabled-fill-color);\n",
              "    box-shadow: none;\n",
              "  }\n",
              "\n",
              "  .colab-df-spinner {\n",
              "    border: 2px solid var(--fill-color);\n",
              "    border-color: transparent;\n",
              "    border-bottom-color: var(--fill-color);\n",
              "    animation:\n",
              "      spin 1s steps(1) infinite;\n",
              "  }\n",
              "\n",
              "  @keyframes spin {\n",
              "    0% {\n",
              "      border-color: transparent;\n",
              "      border-bottom-color: var(--fill-color);\n",
              "      border-left-color: var(--fill-color);\n",
              "    }\n",
              "    20% {\n",
              "      border-color: transparent;\n",
              "      border-left-color: var(--fill-color);\n",
              "      border-top-color: var(--fill-color);\n",
              "    }\n",
              "    30% {\n",
              "      border-color: transparent;\n",
              "      border-left-color: var(--fill-color);\n",
              "      border-top-color: var(--fill-color);\n",
              "      border-right-color: var(--fill-color);\n",
              "    }\n",
              "    40% {\n",
              "      border-color: transparent;\n",
              "      border-right-color: var(--fill-color);\n",
              "      border-top-color: var(--fill-color);\n",
              "    }\n",
              "    60% {\n",
              "      border-color: transparent;\n",
              "      border-right-color: var(--fill-color);\n",
              "    }\n",
              "    80% {\n",
              "      border-color: transparent;\n",
              "      border-right-color: var(--fill-color);\n",
              "      border-bottom-color: var(--fill-color);\n",
              "    }\n",
              "    90% {\n",
              "      border-color: transparent;\n",
              "      border-bottom-color: var(--fill-color);\n",
              "    }\n",
              "  }\n",
              "</style>\n",
              "\n",
              "  <script>\n",
              "    async function quickchart(key) {\n",
              "      const quickchartButtonEl =\n",
              "        document.querySelector('#' + key + ' button');\n",
              "      quickchartButtonEl.disabled = true;  // To prevent multiple clicks.\n",
              "      quickchartButtonEl.classList.add('colab-df-spinner');\n",
              "      try {\n",
              "        const charts = await google.colab.kernel.invokeFunction(\n",
              "            'suggestCharts', [key], {});\n",
              "      } catch (error) {\n",
              "        console.error('Error during call to suggestCharts:', error);\n",
              "      }\n",
              "      quickchartButtonEl.classList.remove('colab-df-spinner');\n",
              "      quickchartButtonEl.classList.add('colab-df-quickchart-complete');\n",
              "    }\n",
              "    (() => {\n",
              "      let quickchartButtonEl =\n",
              "        document.querySelector('#df-664eab93-25cb-4504-a6ee-20d1ae865380 button');\n",
              "      quickchartButtonEl.style.display =\n",
              "        google.colab.kernel.accessAllowed ? 'block' : 'none';\n",
              "    })();\n",
              "  </script>\n",
              "</div>\n",
              "\n",
              "    </div>\n",
              "  </div>\n"
            ],
            "application/vnd.google.colaboratory.intrinsic+json": {
              "type": "dataframe",
              "variable_name": "data",
              "summary": "{\n  \"name\": \"data\",\n  \"rows\": 3929,\n  \"fields\": [\n    {\n      \"column\": \"id\",\n      \"properties\": {\n        \"dtype\": \"number\",\n        \"std\": 2189,\n        \"min\": 32204,\n        \"max\": 39901,\n        \"num_unique_values\": 3929,\n        \"samples\": [\n          35713,\n          35084,\n          36194\n        ],\n        \"semantic_type\": \"\",\n        \"description\": \"\"\n      }\n    },\n    {\n      \"column\": \"make\",\n      \"properties\": {\n        \"dtype\": \"category\",\n        \"num_unique_values\": 39,\n        \"samples\": [\n          \"Honda\",\n          \"Genesis\",\n          \"Hyundai\"\n        ],\n        \"semantic_type\": \"\",\n        \"description\": \"\"\n      }\n    },\n    {\n      \"column\": \"model\",\n      \"properties\": {\n        \"dtype\": \"category\",\n        \"num_unique_values\": 769,\n        \"samples\": [\n          \"Maybach S550 4matic\",\n          \"Prius\",\n          \"230i Convertible\"\n        ],\n        \"semantic_type\": \"\",\n        \"description\": \"\"\n      }\n    },\n    {\n      \"column\": \"year\",\n      \"properties\": {\n        \"dtype\": \"number\",\n        \"std\": 1,\n        \"min\": 2013,\n        \"max\": 2018,\n        \"num_unique_values\": 6,\n        \"samples\": [\n          2013,\n          2014,\n          2018\n        ],\n        \"semantic_type\": \"\",\n        \"description\": \"\"\n      }\n    },\n    {\n      \"column\": \"VClass\",\n      \"properties\": {\n        \"dtype\": \"category\",\n        \"num_unique_values\": 5,\n        \"samples\": [\n          \"Compact Cars\",\n          \"Minicompact Cars\",\n          \"Midsize Cars\"\n        ],\n        \"semantic_type\": \"\",\n        \"description\": \"\"\n      }\n    },\n    {\n      \"column\": \"drive\",\n      \"properties\": {\n        \"dtype\": \"category\",\n        \"num_unique_values\": 6,\n        \"samples\": [\n          \"All-Wheel Drive\",\n          \"Front-Wheel Drive\",\n          \"Automatic (A1)\"\n        ],\n        \"semantic_type\": \"\",\n        \"description\": \"\"\n      }\n    },\n    {\n      \"column\": \"trans\",\n      \"properties\": {\n        \"dtype\": \"category\",\n        \"num_unique_values\": 27,\n        \"samples\": [\n          \"Automatic (AV-S6)\",\n          \"Automatic (variable gear ratios)\",\n          \"Automatic (S8)\"\n        ],\n        \"semantic_type\": \"\",\n        \"description\": \"\"\n      }\n    },\n    {\n      \"column\": \"fuelType\",\n      \"properties\": {\n        \"dtype\": \"category\",\n        \"num_unique_values\": 5,\n        \"samples\": [\n          \"Regular Gasoline\",\n          \"Natural Gas\",\n          \"Diesel\"\n        ],\n        \"semantic_type\": \"\",\n        \"description\": \"\"\n      }\n    },\n    {\n      \"column\": \"cylinders\",\n      \"properties\": {\n        \"dtype\": \"number\",\n        \"std\": 1,\n        \"min\": 2,\n        \"max\": 12,\n        \"num_unique_values\": 7,\n        \"samples\": [\n          6,\n          4,\n          3\n        ],\n        \"semantic_type\": \"\",\n        \"description\": \"\"\n      }\n    },\n    {\n      \"column\": \"displ\",\n      \"properties\": {\n        \"dtype\": \"number\",\n        \"std\": 1.305900873154292,\n        \"min\": 0.6,\n        \"max\": 7.0,\n        \"num_unique_values\": 46,\n        \"samples\": [\n          1.0,\n          6.7,\n          1.3\n        ],\n        \"semantic_type\": \"\",\n        \"description\": \"\"\n      }\n    },\n    {\n      \"column\": \"pv2\",\n      \"properties\": {\n        \"dtype\": \"number\",\n        \"std\": 37,\n        \"min\": 0,\n        \"max\": 102,\n        \"num_unique_values\": 33,\n        \"samples\": [\n          100,\n          85,\n          87\n        ],\n        \"semantic_type\": \"\",\n        \"description\": \"\"\n      }\n    },\n    {\n      \"column\": \"pv4\",\n      \"properties\": {\n        \"dtype\": \"number\",\n        \"std\": 48,\n        \"min\": 0,\n        \"max\": 127,\n        \"num_unique_values\": 43,\n        \"samples\": [\n          108,\n          125,\n          84\n        ],\n        \"semantic_type\": \"\",\n        \"description\": \"\"\n      }\n    },\n    {\n      \"column\": \"city\",\n      \"properties\": {\n        \"dtype\": \"number\",\n        \"std\": 6.246272847435056,\n        \"min\": 10.5402,\n        \"max\": 57.8088,\n        \"num_unique_values\": 1619,\n        \"samples\": [\n          21.8931,\n          24.4094,\n          19.2707\n        ],\n        \"semantic_type\": \"\",\n        \"description\": \"\"\n      }\n    },\n    {\n      \"column\": \"UCity\",\n      \"properties\": {\n        \"dtype\": \"number\",\n        \"std\": 9.087194981187881,\n        \"min\": 12.9,\n        \"max\": 83.5598,\n        \"num_unique_values\": 1467,\n        \"samples\": [\n          20.1572,\n          18.5,\n          35.7216\n        ],\n        \"semantic_type\": \"\",\n        \"description\": \"\"\n      }\n    },\n    {\n      \"column\": \"highway\",\n      \"properties\": {\n        \"dtype\": \"number\",\n        \"std\": 5.747570661230514,\n        \"min\": 16.5594,\n        \"max\": 59.4169,\n        \"num_unique_values\": 1659,\n        \"samples\": [\n          37.6688,\n          38.3403,\n          39.9081\n        ],\n        \"semantic_type\": \"\",\n        \"description\": \"\"\n      }\n    },\n    {\n      \"column\": \"UHighway\",\n      \"properties\": {\n        \"dtype\": \"number\",\n        \"std\": 9.100422725352038,\n        \"min\": 21.8,\n        \"max\": 79.1,\n        \"num_unique_values\": 1472,\n        \"samples\": [\n          32.7164,\n          44.2918,\n          34.2507\n        ],\n        \"semantic_type\": \"\",\n        \"description\": \"\"\n      }\n    },\n    {\n      \"column\": \"comb\",\n      \"properties\": {\n        \"dtype\": \"number\",\n        \"std\": 6.003245556571921,\n        \"min\": 12.8217,\n        \"max\": 57.7824,\n        \"num_unique_values\": 2110,\n        \"samples\": [\n          21.6244,\n          24.7111,\n          27.6665\n        ],\n        \"semantic_type\": \"\",\n        \"description\": \"\"\n      }\n    },\n    {\n      \"column\": \"co2\",\n      \"properties\": {\n        \"dtype\": \"number\",\n        \"std\": 92,\n        \"min\": 29,\n        \"max\": 692,\n        \"num_unique_values\": 404,\n        \"samples\": [\n          476,\n          679,\n          122\n        ],\n        \"semantic_type\": \"\",\n        \"description\": \"\"\n      }\n    },\n    {\n      \"column\": \"feScore\",\n      \"properties\": {\n        \"dtype\": \"number\",\n        \"std\": 1,\n        \"min\": 1,\n        \"max\": 10,\n        \"num_unique_values\": 10,\n        \"samples\": [\n          10,\n          6,\n          2\n        ],\n        \"semantic_type\": \"\",\n        \"description\": \"\"\n      }\n    },\n    {\n      \"column\": \"ghgScore\",\n      \"properties\": {\n        \"dtype\": \"number\",\n        \"std\": 1,\n        \"min\": 1,\n        \"max\": 10,\n        \"num_unique_values\": 10,\n        \"samples\": [\n          10,\n          6,\n          2\n        ],\n        \"semantic_type\": \"\",\n        \"description\": \"\"\n      }\n    }\n  ]\n}"
            }
          },
          "metadata": {},
          "execution_count": 32
        }
      ]
    },
    {
      "cell_type": "markdown",
      "source": [
        "**Step 1: Standardize the Data along the Features of fuel-econ dataset**"
      ],
      "metadata": {
        "id": "mJXi53qXiOcg"
      }
    },
    {
      "cell_type": "markdown",
      "source": [
        "In the context of the fuel-econ dataset, standardization ensures that all numerical features (like fuel economy metrics) are on the same scale. This is important because it prevents features with larger values from dominating the analysis, allowing for a fair comparison of all features."
      ],
      "metadata": {
        "id": "esRL8uT8lrmh"
      }
    },
    {
      "cell_type": "code",
      "source": [
        "# Handle categorical data using one-hot encoding\n",
        "data_encoded = pd.get_dummies(data, drop_first=True)\n",
        "\n",
        "# Step 1: Standardize the Data along the Features\n",
        "scaler = StandardScaler()\n",
        "standardized_data = scaler.fit_transform(data_encoded)\n",
        "\n",
        "# Display the standardized data (first 5 rows)\n",
        "print(\"Standardized Data (First 5 Rows):\")\n",
        "print(standardized_data[:5])"
      ],
      "metadata": {
        "id": "Wr_ylz31imkB",
        "outputId": "6fd21d5a-577c-4238-c3d5-e669e52cbd52",
        "colab": {
          "base_uri": "https://localhost:8080/"
        }
      },
      "execution_count": 33,
      "outputs": [
        {
          "output_type": "stream",
          "name": "stdout",
          "text": [
            "Standardized Data (First 5 Rows):\n",
            "[[-1.73714048 -1.47583548  0.28310163 ... -0.02764302  0.84070013\n",
            "  -0.79476067]\n",
            " [-1.73668367 -1.47583548 -0.78181585 ... -0.02764302  0.84070013\n",
            "  -0.79476067]\n",
            " [-1.73622685 -1.47583548  0.28310163 ... -0.02764302  0.84070013\n",
            "  -0.79476067]\n",
            " [-1.73577004 -1.47583548  0.28310163 ... -0.02764302  0.84070013\n",
            "  -0.79476067]\n",
            " [-1.73531322 -1.47583548 -0.78181585 ... -0.02764302 -1.18948476\n",
            "   1.25824043]]\n"
          ]
        }
      ]
    },
    {
      "cell_type": "markdown",
      "source": [
        "**Step 2: Calculate the Covariance Matrix of fuel-econ dataset**"
      ],
      "metadata": {
        "id": "sXK7irSiierv"
      }
    },
    {
      "cell_type": "markdown",
      "source": [
        "For the fuel-econ dataset, the covariance matrix illustrates how the various features (e.g., weight, horsepower, and fuel efficiency) relate to one another. It shows how much the features vary together, which is essential for understanding the data's structure and variance distribution."
      ],
      "metadata": {
        "id": "33M0-WaImiYr"
      }
    },
    {
      "cell_type": "code",
      "source": [
        "# Step 2: Calculate the Covariance Matrix\n",
        "cov_matrix = np.cov(standardized_data.T)\n",
        "\n",
        "# Display the covariance matrix\n",
        "print(\"\\nCovariance Matrix:\")\n",
        "print(cov_matrix)"
      ],
      "metadata": {
        "id": "o9qKotkGjoHU",
        "outputId": "60a3c472-b13f-4fb4-d689-351ded54b5e5",
        "colab": {
          "base_uri": "https://localhost:8080/"
        }
      },
      "execution_count": 34,
      "outputs": [
        {
          "output_type": "stream",
          "name": "stdout",
          "text": [
            "\n",
            "Covariance Matrix:\n",
            "[[ 1.00025458  0.98591866 -0.06011148 ... -0.0164336   0.03205579\n",
            "  -0.02254824]\n",
            " [ 0.98591866  1.00025458 -0.05532701 ... -0.02448998  0.03933023\n",
            "  -0.0283311 ]\n",
            " [-0.06011148 -0.05532701  1.00025458 ... -0.02161725  0.40480546\n",
            "  -0.4016625 ]\n",
            " ...\n",
            " [-0.0164336  -0.02448998 -0.02161725 ...  1.00025458 -0.03288932\n",
            "  -0.02197518]\n",
            " [ 0.03205579  0.03933023  0.40480546 ... -0.03288932  1.00025458\n",
            "  -0.94559637]\n",
            " [-0.02254824 -0.0283311  -0.4016625  ... -0.02197518 -0.94559637\n",
            "   1.00025458]]\n"
          ]
        }
      ]
    },
    {
      "cell_type": "markdown",
      "source": [
        "**Step 3: Eigendecomposition on the Covariance Matrix (fuel-econ datset)**"
      ],
      "metadata": {
        "id": "D4BLSxyPj3do"
      }
    },
    {
      "cell_type": "markdown",
      "source": [
        "Performing eigendecomposition on the covariance matrix of the fuel-econ dataset provides eigenvalues and eigenvectors. The eigenvalues indicate how much variance each principal component captures from the data, while the eigenvectors provide the directions of these components in the context of the original feature space."
      ],
      "metadata": {
        "id": "vsVn6ZcumqSr"
      }
    },
    {
      "cell_type": "code",
      "source": [
        "# Display the eigenvalues and eigenvectors\n",
        "print(\"\\nEigenvalues:\")\n",
        "print(eigenvalues[:5])  # First 5 eigenvalues\n",
        "print(\"\\nEigenvectors (First 5 Rows):\")\n",
        "print(eigenvectors[:5])  # First 5 rows of eigenvectors"
      ],
      "metadata": {
        "id": "CXjmkOnyj80M",
        "outputId": "80183c8e-2eb2-47fe-de15-7bd5f5cd87fe",
        "colab": {
          "base_uri": "https://localhost:8080/"
        }
      },
      "execution_count": 35,
      "outputs": [
        {
          "output_type": "stream",
          "name": "stdout",
          "text": [
            "\n",
            "Eigenvalues:\n",
            "[3.80985761e+00 1.73655615e+00 4.94531029e-02 4.74189469e-05\n",
            " 4.04085720e-01]\n",
            "\n",
            "Eigenvectors (First 5 Rows):\n",
            "[[-0.4640131   0.45182808 -0.70733581  0.28128049 -0.03317471]\n",
            " [ 0.45019005  0.48800851  0.29051532  0.6706731  -0.15803498]\n",
            " [ 0.37929082 -0.55665017 -0.48462321  0.24186072 -0.5029143 ]\n",
            " [-0.4976889   0.03162214  0.36999674 -0.03373724 -0.78311558]\n",
            " [ 0.43642295  0.49682965 -0.20861365 -0.64143906 -0.32822489]]\n"
          ]
        }
      ]
    },
    {
      "cell_type": "markdown",
      "source": [
        "**Step 4: Sort the Principal Components (fuel-econ dataset)**"
      ],
      "metadata": {
        "id": "a7zDHEthkMvE"
      }
    },
    {
      "cell_type": "markdown",
      "source": [
        "In the fuel-econ dataset, sorting the eigenvalues and their corresponding eigenvectors helps identify the most important principal components. This sorting highlights which components capture the most variance in the data, guiding the selection of components for further analysis."
      ],
      "metadata": {
        "id": "kj-VK91nnJ8q"
      }
    },
    {
      "cell_type": "code",
      "source": [
        "# Step 4: Sort the Principal Components\n",
        "sorted_indices = np.argsort(eigenvalues)[::-1]\n",
        "sorted_eigenvalues = eigenvalues[sorted_indices]\n",
        "sorted_eigenvectors = eigenvectors[:, sorted_indices]\n",
        "\n",
        "# Display sorted eigenvalues and eigenvectors\n",
        "print(\"\\nSorted Eigenvalues (First 5):\")\n",
        "print(sorted_eigenvalues[:5])\n",
        "print(\"\\nSorted Eigenvectors (First 5 Rows):\")\n",
        "print(sorted_eigenvectors[:5])"
      ],
      "metadata": {
        "id": "Nrouq1kPkS_C",
        "outputId": "14a6eb52-822e-4eea-affe-261f1fe52bf4",
        "colab": {
          "base_uri": "https://localhost:8080/"
        }
      },
      "execution_count": 36,
      "outputs": [
        {
          "output_type": "stream",
          "name": "stdout",
          "text": [
            "\n",
            "Sorted Eigenvalues (First 5):\n",
            "[3.80985761e+00 1.73655615e+00 4.04085720e-01 4.94531029e-02\n",
            " 4.74189469e-05]\n",
            "\n",
            "Sorted Eigenvectors (First 5 Rows):\n",
            "[[-0.4640131   0.45182808 -0.03317471 -0.70733581  0.28128049]\n",
            " [ 0.45019005  0.48800851 -0.15803498  0.29051532  0.6706731 ]\n",
            " [ 0.37929082 -0.55665017 -0.5029143  -0.48462321  0.24186072]\n",
            " [-0.4976889   0.03162214 -0.78311558  0.36999674 -0.03373724]\n",
            " [ 0.43642295  0.49682965 -0.32822489 -0.20861365 -0.64143906]]\n"
          ]
        }
      ]
    },
    {
      "cell_type": "markdown",
      "source": [
        "**Step 5: Initialize the number of Principal components and perform matrix multiplication**"
      ],
      "metadata": {
        "id": "YI9ef5_1kp0N"
      }
    },
    {
      "cell_type": "markdown",
      "source": [
        "By setting\n",
        "𝑘\n",
        "=\n",
        "2\n",
        "k=2 for the fuel-econ dataset, we perform matrix multiplication to project the standardized data onto the top two principal components. This reduction simplifies the dataset while retaining essential information about fuel economy characteristics, enabling easier visualization and analysis."
      ],
      "metadata": {
        "id": "qfpne-4NnTrD"
      }
    },
    {
      "cell_type": "code",
      "source": [
        "k = 2  # Example for 2 principal components\n",
        "\n",
        "# Check shapes and perform matrix multiplication if compatible\n",
        "if standardized_data.shape[1] == sorted_eigenvectors.shape[0]:\n",
        "    reduced_data = np.matmul(standardized_data, sorted_eigenvectors[:, :k])"
      ],
      "metadata": {
        "id": "OvRzI3xhkuGO"
      },
      "execution_count": 45,
      "outputs": []
    },
    {
      "cell_type": "code",
      "source": [
        "print(\"Reduced Data (First 5 Rows):\\n\", reduced_data[:5])"
      ],
      "metadata": {
        "colab": {
          "base_uri": "https://localhost:8080/"
        },
        "id": "ClabmkdvDHoq",
        "outputId": "ded652e2-af17-432b-e309-d986a69876bb"
      },
      "execution_count": 46,
      "outputs": [
        {
          "output_type": "stream",
          "name": "stdout",
          "text": [
            "Reduced Data (First 5 Rows):\n",
            " [[ 2.3577116  -0.75728867]\n",
            " [-2.27171739 -1.81970663]\n",
            " [ 1.21259114 -0.50390931]\n",
            " [-1.41935914  1.9229856 ]\n",
            " [ 1.61562536  0.87541857]]\n"
          ]
        }
      ]
    },
    {
      "cell_type": "code",
      "source": [
        "print(\"\\nShape of Reduced Data:\", reduced_data.shape)"
      ],
      "metadata": {
        "colab": {
          "base_uri": "https://localhost:8080/"
        },
        "id": "nzu-MRdMDMbw",
        "outputId": "c2293ba2-86a2-4d81-de78-8faf1df6b55e"
      },
      "execution_count": 43,
      "outputs": [
        {
          "output_type": "stream",
          "name": "stdout",
          "text": [
            "\n",
            "Shape of Reduced Data: (6, 2)\n"
          ]
        }
      ]
    },
    {
      "cell_type": "markdown",
      "source": [
        "# *What are 2 positive effects and 2 negative effects of PCA\n",
        "\n",
        "Give 2 Benefits and 2 limitations\n",
        "\n",
        "\n",
        "**Benefits**\n",
        "\n",
        "*   Data Simplification: PCA helps condense a large dataset into a smaller set of components that still capture essential information. This can make it easier to analyze and visualize data trends, particularly in complex datasets with many features.\n",
        "\n",
        "*  Enhanced Model Performance: By reducing dimensionality, PCA can decrease computation time and improve the efficiency of machine learning models. It often leads to better model performance by focusing on the most relevant features and reducing overfitting.\n",
        "\n",
        "\n",
        "**limitations**\n",
        "\n",
        "*  Reduced Feature Interpretability: The new components generated by PCA do not have direct physical meanings tied to the original features. This can make it difficult for analysts to understand the significance of the principal components in relation to the original data.\n",
        "\n",
        "*  Linear Relationships Assumption: PCA is primarily designed to work with linear relationships. If the data has complex, non-linear relationships, PCA may not effectively capture the underlying structure, potentially leading to less accurate results in certain scenarios."
      ],
      "metadata": {
        "id": "UxQ8lTunauMQ"
      }
    }
  ]
}